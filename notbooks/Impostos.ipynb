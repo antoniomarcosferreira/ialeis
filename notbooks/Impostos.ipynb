{
 "cells": [
  {
   "cell_type": "code",
   "execution_count": 1,
   "metadata": {},
   "outputs": [],
   "source": [
    "import pandas as pd\n",
    "import numpy as np\n",
    "from collections import Counter\n",
    "import laws_ai.db as db\n",
    "\n",
    "db = db.base()"
   ]
  },
  {
   "cell_type": "code",
   "execution_count": 2,
   "metadata": {},
   "outputs": [],
   "source": [
    "texts = db.published_laws.aggregate(\n",
    "    [\n",
    "        {\n",
    "            '$lookup':\n",
    "            {\n",
    "                'from': \"texts\",\n",
    "                'localField': \"text\",\n",
    "                'foreignField': \"_id\",\n",
    "                'as': \"texts\"\n",
    "            }\n",
    "        },\n",
    "        {\n",
    "            '$lookup':\n",
    "            {\n",
    "                'from': \"laws\",\n",
    "                'localField': \"law\",\n",
    "                'foreignField': \"_id\",\n",
    "                'as': \"laws\"\n",
    "            }\n",
    "        },\n",
    "        {\n",
    "           '$unwind': \"$laws\"\n",
    "        },\n",
    "        {\n",
    "           '$unwind': \"$texts\"\n",
    "        },\n",
    "          {\n",
    "            \"$project\": {\n",
    "              \"_id\": 1,\n",
    "              \"date\": 1,  \n",
    "              \"texts.text\": 1, \n",
    "              \"laws.authors\": 1, \n",
    "              \"laws.law_code\": 1, \n",
    "            }\n",
    "          }\n",
    "    ]\n",
    ")\n",
    "dados = []\n",
    "for i in texts:\n",
    "    text =  i[\"texts\"][\"text\"]\n",
    "    author = i[\"laws\"][\"authors\"][0]\n",
    "    law_code = i[\"laws\"][\"law_code\"]\n",
    "    date = pd.to_datetime( i[\"date\"],infer_datetime_format=True)\n",
    "    dados.append({'date': date, 'law_code': law_code, 'text': text, 'author': author})\n",
    "\n",
    "dataset = pd.DataFrame(list(dados))\n",
    "df = dataset"
   ]
  },
  {
   "cell_type": "markdown",
   "metadata": {},
   "source": [
    "## Análise Exploratória"
   ]
  },
  {
   "cell_type": "code",
   "execution_count": 3,
   "metadata": {},
   "outputs": [
    {
     "name": "stdout",
     "output_type": "stream",
     "text": [
      "Size before clean:  71011\n",
      "Size after clean:  69286 . Redução de  3 % dos dados\n"
     ]
    }
   ],
   "source": [
    "df = dataset\n",
    "size1 = len(df)\n",
    "print(\"Size before clean: \", size1) \n",
    "\n",
    "df = df[~df['text'].str.contains(\"O PRESIDENTE DA REPÚBLICA\")]\n",
    "df = df[~df['text'].str.contains(\"O VICE–PRESIDENTE DA REPÚBLICA\")]\n",
    "\n",
    "size2 = len(df)\n",
    "print(\"Size after clean: \", len(df), \". Redução de \", (100 - int((size2 * 100) / size1)), \"% dos dados\")\n"
   ]
  },
  {
   "cell_type": "code",
   "execution_count": 4,
   "metadata": {},
   "outputs": [
    {
     "name": "stdout",
     "output_type": "stream",
     "text": [
      "Sample (3):\n",
      "            date law_code                                               text  \\\n",
      "41716 2018-01-05   L13595  Art. 9º-E. Atendidas as disposições desta Lei ...   \n",
      "36247 2009-08-12   L12017   VI – ao pagamento de benefícios mensais às pe...   \n",
      "66794        NaT   L12213  c) entregar a declaração fora do prazo; (Inclu...   \n",
      "\n",
      "                       author  \n",
      "41716            MICHEL TEMER  \n",
      "36247  LUIZ INACIO LULA SILVA  \n",
      "66794  LUIZ INACIO LULA SILVA  \n"
     ]
    }
   ],
   "source": [
    "print(\"Sample (3):\")\n",
    "print(df.sample(n=3, random_state=1))"
   ]
  },
  {
   "cell_type": "markdown",
   "metadata": {},
   "source": [
    "## Prepara o texto"
   ]
  },
  {
   "cell_type": "code",
   "execution_count": 5,
   "metadata": {},
   "outputs": [
    {
     "name": "stderr",
     "output_type": "stream",
     "text": [
      "[nltk_data] Downloading package stopwords to\n",
      "[nltk_data]     /home/developer/nltk_data...\n",
      "[nltk_data]   Package stopwords is already up-to-date!\n"
     ]
    }
   ],
   "source": [
    "import nltk\n",
    "from string import punctuation\n",
    "import re\n",
    "nltk.download('stopwords')\n",
    "stopwords = nltk.corpus.stopwords.words('portuguese')\n",
    "stop_words = set(stopwords + list(punctuation))\n"
   ]
  },
  {
   "cell_type": "code",
   "execution_count": 6,
   "metadata": {},
   "outputs": [],
   "source": [
    "def df_clean_text(df):\n",
    "    text = df['clean_text']\n",
    "    text = \" \".join(text.split())\n",
    "    text = re.sub('<[^>]+>', '', text)\n",
    "    text = text.split(\"(function\")[0]\n",
    "    text = text.lower()\n",
    "    text = [palavra for palavra in text.split() if palavra not in stop_words]\n",
    "    text = \" \".join(text)\n",
    "    return text\n"
   ]
  },
  {
   "cell_type": "code",
   "execution_count": 7,
   "metadata": {},
   "outputs": [],
   "source": [
    "def clean_text(text):\n",
    "    text = \" \".join(text.split())\n",
    "    text = re.sub('<[^>]+>', '', text)\n",
    "    text = text.split(\"(function\")[0]\n",
    "    text = text.lower()\n",
    "    text = [palavra for palavra in text.split() if palavra not in stop_words]\n",
    "    text = \" \".join(text)\n",
    "    return text\n"
   ]
  },
  {
   "cell_type": "code",
   "execution_count": 8,
   "metadata": {},
   "outputs": [],
   "source": [
    "def count_text(text):\n",
    "    text_splited = text.split(' ')\n",
    "    fdist1 = nltk.FreqDist(text_splited) \n",
    "    return fdist1\n"
   ]
  },
  {
   "cell_type": "code",
   "execution_count": 9,
   "metadata": {},
   "outputs": [],
   "source": [
    "def categorizar(text):\n",
    "    text_array = text.split()\n",
    "    if \"icms\" in text_array:\n",
    "        return \"icms\"\n",
    "    if \"is\" in text_array:\n",
    "        return \"is\"\n",
    "    if \"cofins\" in text_array:\n",
    "        return \"pis cofins\"\n",
    "    if \"pasep\" in text_array:\n",
    "        return \"pis pasep\"\n",
    "    if \"ipi\" in text_array:\n",
    "        return \"ipi\"\n",
    "    if \"iss\" in text_array:\n",
    "        return \"iss\"\n",
    "    if \"itr\" in text_array:\n",
    "        return \"itr\" \n",
    "    if \"ie\" in text_array:\n",
    "        return \"ie\" \n",
    "    if \"iof\" in text_array:\n",
    "        return \"iof\"\n",
    "    if \"irpj\" in text_array:\n",
    "        return \"irpj\"\n",
    "    if \"irpf\" in text_array:\n",
    "        return \"irpf\"\n",
    "    if \"cofins\" in text_array:\n",
    "        return \"cofins\"\n",
    "    if \"cide\" in text_array:\n",
    "        return \"cide\"\n",
    "    if \"csll\" in text_array:\n",
    "        return \"csll\" \n",
    "    if \"fgts\" in text_array:\n",
    "        return \"fgts\""
   ]
  },
  {
   "cell_type": "code",
   "execution_count": 10,
   "metadata": {},
   "outputs": [],
   "source": [
    "df['clean_text'] = df['text'].apply(clean_text)\n",
    "df['cat'] = df['clean_text'].apply(categorizar)\n",
    "df['n_words'] = df['clean_text'].apply(lambda x: len(x.split(' ')))"
   ]
  },
  {
   "cell_type": "code",
   "execution_count": 11,
   "metadata": {},
   "outputs": [
    {
     "name": "stdout",
     "output_type": "stream",
     "text": [
      "Total words: 67965\n"
     ]
    }
   ],
   "source": [
    "texts = df['clean_text'].str.split()\n",
    "vocab = Counter()\n",
    "\n",
    "for i in texts:\n",
    "    for w in i:\n",
    "        vocab[w]+=1\n",
    "\n",
    "print(\"Total words:\", len(vocab))"
   ]
  },
  {
   "cell_type": "code",
   "execution_count": 12,
   "metadata": {},
   "outputs": [
    {
     "data": {
      "text/html": [
       "<div>\n",
       "<style scoped>\n",
       "    .dataframe tbody tr th:only-of-type {\n",
       "        vertical-align: middle;\n",
       "    }\n",
       "\n",
       "    .dataframe tbody tr th {\n",
       "        vertical-align: top;\n",
       "    }\n",
       "\n",
       "    .dataframe thead th {\n",
       "        text-align: right;\n",
       "    }\n",
       "</style>\n",
       "<table border=\"1\" class=\"dataframe\">\n",
       "  <thead>\n",
       "    <tr style=\"text-align: right;\">\n",
       "      <th></th>\n",
       "      <th>date</th>\n",
       "      <th>law_code</th>\n",
       "      <th>text</th>\n",
       "      <th>author</th>\n",
       "      <th>clean_text</th>\n",
       "      <th>cat</th>\n",
       "      <th>n_words</th>\n",
       "    </tr>\n",
       "  </thead>\n",
       "  <tbody>\n",
       "    <tr>\n",
       "      <th>131</th>\n",
       "      <td>2008-10-06</td>\n",
       "      <td>L11793</td>\n",
       "      <td>§ 1o O rateio entre os Municípios das parcelas...</td>\n",
       "      <td>LUIZ INACIO LULA SILVA</td>\n",
       "      <td>§ 1o rateio municípios parcelas trata inciso i...</td>\n",
       "      <td>icms</td>\n",
       "      <td>26</td>\n",
       "    </tr>\n",
       "    <tr>\n",
       "      <th>132</th>\n",
       "      <td>2008-10-06</td>\n",
       "      <td>L11793</td>\n",
       "      <td>§ 2o O rateio entre os Municípios das parcelas...</td>\n",
       "      <td>LUIZ INACIO LULA SILVA</td>\n",
       "      <td>§ 2o rateio municípios parcelas trata inciso i...</td>\n",
       "      <td>icms</td>\n",
       "      <td>26</td>\n",
       "    </tr>\n",
       "    <tr>\n",
       "      <th>1292</th>\n",
       "      <td>1986-11-21</td>\n",
       "      <td>Del2290compilado</td>\n",
       "      <td>Art. 12. Os saldos das cadernetas de poupança,...</td>\n",
       "      <td>JOSE SARNEY</td>\n",
       "      <td>art. 12. saldos cadernetas poupança, bem fundo...</td>\n",
       "      <td>fgts</td>\n",
       "      <td>91</td>\n",
       "    </tr>\n",
       "    <tr>\n",
       "      <th>2184</th>\n",
       "      <td>2004-04-30</td>\n",
       "      <td>L10.865compilado</td>\n",
       "      <td>II - o valor pago, creditado, entregue, empre...</td>\n",
       "      <td>LUIZ INACIO LULA SILVA</td>\n",
       "      <td>ii valor pago, creditado, entregue, empregado ...</td>\n",
       "      <td>iss</td>\n",
       "      <td>30</td>\n",
       "    </tr>\n",
       "    <tr>\n",
       "      <th>2298</th>\n",
       "      <td>2004-04-30</td>\n",
       "      <td>L10.865compilado</td>\n",
       "      <td>Art. 14. As normas relativas à suspensão do pa...</td>\n",
       "      <td>LUIZ INACIO LULA SILVA</td>\n",
       "      <td>art. 14. normas relativas suspensão pagamento ...</td>\n",
       "      <td>ipi</td>\n",
       "      <td>22</td>\n",
       "    </tr>\n",
       "    <tr>\n",
       "      <th>...</th>\n",
       "      <td>...</td>\n",
       "      <td>...</td>\n",
       "      <td>...</td>\n",
       "      <td>...</td>\n",
       "      <td>...</td>\n",
       "      <td>...</td>\n",
       "      <td>...</td>\n",
       "    </tr>\n",
       "    <tr>\n",
       "      <th>42177</th>\n",
       "      <td>2004-08-11</td>\n",
       "      <td>L10.934compilado</td>\n",
       "      <td>IX - a participação do Tesouro Nacional no pa...</td>\n",
       "      <td>LUIZ INACIO LULA SILVA</td>\n",
       "      <td>ix participação tesouro nacional pagamento exp...</td>\n",
       "      <td>fgts</td>\n",
       "      <td>21</td>\n",
       "    </tr>\n",
       "    <tr>\n",
       "      <th>53522</th>\n",
       "      <td>2010-08-09</td>\n",
       "      <td>L12309</td>\n",
       "      <td>XI - apresentação pela entidade de certidão ne...</td>\n",
       "      <td>LUIZ INACIO LULA SILVA</td>\n",
       "      <td>xi apresentação entidade certidão negativa cer...</td>\n",
       "      <td>fgts</td>\n",
       "      <td>39</td>\n",
       "    </tr>\n",
       "    <tr>\n",
       "      <th>56228</th>\n",
       "      <td>2009-03-04</td>\n",
       "      <td>L11909</td>\n",
       "      <td>Art. 4o Caberá ao Ministério de Minas e Energi...</td>\n",
       "      <td>LUIZ INACIO LULA SILVA</td>\n",
       "      <td>art. 4o caberá ministério minas energia: i pro...</td>\n",
       "      <td>cide</td>\n",
       "      <td>108</td>\n",
       "    </tr>\n",
       "    <tr>\n",
       "      <th>63776</th>\n",
       "      <td>1969-03-05</td>\n",
       "      <td>Del0491</td>\n",
       "      <td>Art. 5º É assegurada a manutenção e utilização...</td>\n",
       "      <td>A COSTA E SILVA</td>\n",
       "      <td>art. 5º assegurada manutenção utilização crédi...</td>\n",
       "      <td>ipi</td>\n",
       "      <td>139</td>\n",
       "    </tr>\n",
       "    <tr>\n",
       "      <th>67874</th>\n",
       "      <td>1983-08-03</td>\n",
       "      <td>Del2052</td>\n",
       "      <td>Art 10 - A ação para cobrança das contribuiçõ...</td>\n",
       "      <td>AURELIANO CHAVESS</td>\n",
       "      <td>art 10 ação cobrança contribuições devidas pis...</td>\n",
       "      <td>pis pasep</td>\n",
       "      <td>22</td>\n",
       "    </tr>\n",
       "  </tbody>\n",
       "</table>\n",
       "<p>95 rows × 7 columns</p>\n",
       "</div>"
      ],
      "text/plain": [
       "            date          law_code  \\\n",
       "131   2008-10-06            L11793   \n",
       "132   2008-10-06            L11793   \n",
       "1292  1986-11-21  Del2290compilado   \n",
       "2184  2004-04-30  L10.865compilado   \n",
       "2298  2004-04-30  L10.865compilado   \n",
       "...          ...               ...   \n",
       "42177 2004-08-11  L10.934compilado   \n",
       "53522 2010-08-09            L12309   \n",
       "56228 2009-03-04            L11909   \n",
       "63776 1969-03-05           Del0491   \n",
       "67874 1983-08-03           Del2052   \n",
       "\n",
       "                                                    text  \\\n",
       "131    § 1o O rateio entre os Municípios das parcelas...   \n",
       "132    § 2o O rateio entre os Municípios das parcelas...   \n",
       "1292   Art. 12. Os saldos das cadernetas de poupança,...   \n",
       "2184    II - o valor pago, creditado, entregue, empre...   \n",
       "2298   Art. 14. As normas relativas à suspensão do pa...   \n",
       "...                                                  ...   \n",
       "42177   IX - a participação do Tesouro Nacional no pa...   \n",
       "53522  XI - apresentação pela entidade de certidão ne...   \n",
       "56228  Art. 4o Caberá ao Ministério de Minas e Energi...   \n",
       "63776  Art. 5º É assegurada a manutenção e utilização...   \n",
       "67874   Art 10 - A ação para cobrança das contribuiçõ...   \n",
       "\n",
       "                       author  \\\n",
       "131    LUIZ INACIO LULA SILVA   \n",
       "132    LUIZ INACIO LULA SILVA   \n",
       "1292              JOSE SARNEY   \n",
       "2184   LUIZ INACIO LULA SILVA   \n",
       "2298   LUIZ INACIO LULA SILVA   \n",
       "...                       ...   \n",
       "42177  LUIZ INACIO LULA SILVA   \n",
       "53522  LUIZ INACIO LULA SILVA   \n",
       "56228  LUIZ INACIO LULA SILVA   \n",
       "63776         A COSTA E SILVA   \n",
       "67874       AURELIANO CHAVESS   \n",
       "\n",
       "                                              clean_text        cat  n_words  \n",
       "131    § 1o rateio municípios parcelas trata inciso i...       icms       26  \n",
       "132    § 2o rateio municípios parcelas trata inciso i...       icms       26  \n",
       "1292   art. 12. saldos cadernetas poupança, bem fundo...       fgts       91  \n",
       "2184   ii valor pago, creditado, entregue, empregado ...        iss       30  \n",
       "2298   art. 14. normas relativas suspensão pagamento ...        ipi       22  \n",
       "...                                                  ...        ...      ...  \n",
       "42177  ix participação tesouro nacional pagamento exp...       fgts       21  \n",
       "53522  xi apresentação entidade certidão negativa cer...       fgts       39  \n",
       "56228  art. 4o caberá ministério minas energia: i pro...       cide      108  \n",
       "63776  art. 5º assegurada manutenção utilização crédi...        ipi      139  \n",
       "67874  art 10 ação cobrança contribuições devidas pis...  pis pasep       22  \n",
       "\n",
       "[95 rows x 7 columns]"
      ]
     },
     "execution_count": 12,
     "metadata": {},
     "output_type": "execute_result"
    }
   ],
   "source": [
    "df_categorized = df\n",
    "df_categorized = df_categorized.mask(df[\"cat\"].eq(None)).dropna()\n",
    "df_categorized"
   ]
  },
  {
   "cell_type": "code",
   "execution_count": 13,
   "metadata": {},
   "outputs": [
    {
     "data": {
      "text/plain": [
       "<matplotlib.axes._subplots.AxesSubplot at 0x7f8b1a8a6c50>"
      ]
     },
     "execution_count": 13,
     "metadata": {},
     "output_type": "execute_result"
    },
    {
     "data": {
      "image/png": "[encoded data removed]",
      "text/plain": [
       "<Figure size 1080x360 with 1 Axes>"
      ]
     },
     "metadata": {
      "needs_background": "light"
     },
     "output_type": "display_data"
    }
   ],
   "source": [
    "import matplotlib.pyplot as plt\n",
    "import pandas as pd\n",
    "fig = plt.figure()\n",
    "fig.suptitle('Textos contendo ciglas de impostos', fontsize=20)\n",
    "cat_values = df_categorized['cat'].value_counts()\n",
    "cat_values.plot(kind='bar', figsize=(15, 5)) \n"
   ]
  },
  {
   "cell_type": "markdown",
   "metadata": {},
   "source": [
    "Esta é uma simples aplicação, o objetivo aqui foi apena identificar referências aos impostos nos textos."
   ]
  },
  {
   "cell_type": "code",
   "execution_count": null,
   "metadata": {},
   "outputs": [],
   "source": []
  },
  {
   "cell_type": "code",
   "execution_count": null,
   "metadata": {},
   "outputs": [],
   "source": []
  }
 ],
 "metadata": {
  "kernelspec": {
   "display_name": "Python 3",
   "language": "python",
   "name": "python3"
  },
  "language_info": {
   "codemirror_mode": {
    "name": "ipython",
    "version": 3
   },
   "file_extension": ".py",
   "mimetype": "text/x-python",
   "name": "python",
   "nbconvert_exporter": "python",
   "pygments_lexer": "ipython3",
   "version": "3.7.5"
  }
 },
 "nbformat": 4,
 "nbformat_minor": 2
}
