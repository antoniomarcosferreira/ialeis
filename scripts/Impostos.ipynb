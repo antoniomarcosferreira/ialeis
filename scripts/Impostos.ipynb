{
 "cells": [
  {
   "cell_type": "code",
   "execution_count": 14,
   "metadata": {},
   "outputs": [],
   "source": [
    "import pandas as pd\n",
    "import numpy as np\n",
    "from collections import Counter\n",
    "\n",
    "import laws_ai.db as db\n",
    "\n",
    "db = db.base()"
   ]
  },
  {
   "cell_type": "code",
   "execution_count": 15,
   "metadata": {},
   "outputs": [],
   "source": [
    "texts = db.published_laws.aggregate(\n",
    "    [\n",
    "        {\n",
    "            '$lookup':\n",
    "            {\n",
    "                'from': \"texts\",\n",
    "                'localField': \"text\",\n",
    "                'foreignField': \"_id\",\n",
    "                'as': \"texts\"\n",
    "            }\n",
    "        },\n",
    "        {\n",
    "            '$lookup':\n",
    "            {\n",
    "                'from': \"laws\",\n",
    "                'localField': \"law\",\n",
    "                'foreignField': \"_id\",\n",
    "                'as': \"laws\"\n",
    "            }\n",
    "        },\n",
    "        {\n",
    "           '$unwind': \"$laws\"\n",
    "        },\n",
    "        {\n",
    "           '$unwind': \"$texts\"\n",
    "        },\n",
    "          {\n",
    "            \"$project\": {\n",
    "              \"_id\": 1,\n",
    "              \"date\": 1,  \n",
    "              \"texts.text\": 1, \n",
    "              \"laws.authors\": 1, \n",
    "              \"laws.law_code\": 1, \n",
    "            }\n",
    "          }\n",
    "    ]\n",
    ")\n",
    "dados = []\n",
    "for i in texts:\n",
    "    text =  i[\"texts\"][\"text\"]\n",
    "    author = i[\"laws\"][\"authors\"][0]\n",
    "    law_code = i[\"laws\"][\"law_code\"]\n",
    "    date = pd.to_datetime( i[\"date\"],infer_datetime_format=True)\n",
    "    dados.append({'date': date, 'law_code': law_code, 'text': text, 'author': author})\n",
    "\n",
    "dataset = pd.DataFrame(list(dados))\n",
    "df = dataset"
   ]
  },
  {
   "cell_type": "markdown",
   "metadata": {},
   "source": [
    "## Análise Exploratória"
   ]
  },
  {
   "cell_type": "code",
   "execution_count": 16,
   "metadata": {},
   "outputs": [
    {
     "name": "stdout",
     "output_type": "stream",
     "text": [
      "Size before clean:  70955\n",
      "Size after clean:  69200 . Redução de  3 % dos dados\n"
     ]
    }
   ],
   "source": [
    "df = dataset\n",
    "size1 = len(df)\n",
    "print(\"Size before clean: \", size1) \n",
    "\n",
    "df = df[~df['text'].str.contains(\"O PRESIDENTE DA REPÚBLICA\")]\n",
    "df = df[~df['text'].str.contains(\"O VICE–PRESIDENTE DA REPÚBLICA\")]\n",
    "\n",
    "size2 = len(df)\n",
    "print(\"Size after clean: \", len(df), \". Redução de \", (100 - int((size2 * 100) / size1)), \"% dos dados\")\n"
   ]
  },
  {
   "cell_type": "code",
   "execution_count": 17,
   "metadata": {},
   "outputs": [
    {
     "name": "stdout",
     "output_type": "stream",
     "text": [
      "Sample (3):\n",
      "            date          law_code  \\\n",
      "28639 1989-10-06             L7834   \n",
      "36782        NaT            L13709   \n",
      "27366 1966-12-30  Del0096impressao   \n",
      "\n",
      "                                                    text            author  \n",
      "28639  Art. 3º O vencimento inicial do cargo de Espec...       JOSE SARNEY  \n",
      "36782   § 2º Os membros do Conselho Diretor serão esc...      MICHEL TEMER  \n",
      "27366  Art. 2º Sòmente serão permitidos saques contra...  H CASTELO BRANCO  \n"
     ]
    }
   ],
   "source": [
    "print(\"Sample (3):\")\n",
    "print(df.sample(n=3, random_state=1))"
   ]
  },
  {
   "cell_type": "markdown",
   "metadata": {},
   "source": [
    "## Prepara o texto"
   ]
  },
  {
   "cell_type": "code",
   "execution_count": 18,
   "metadata": {},
   "outputs": [
    {
     "name": "stderr",
     "output_type": "stream",
     "text": [
      "[nltk_data] Downloading package stopwords to\n",
      "[nltk_data]     /home/developer/nltk_data...\n",
      "[nltk_data]   Package stopwords is already up-to-date!\n"
     ]
    }
   ],
   "source": [
    "import nltk\n",
    "from string import punctuation\n",
    "import re\n",
    "nltk.download('stopwords')\n",
    "stopwords = nltk.corpus.stopwords.words('portuguese')\n",
    "stop_words = set(stopwords + list(punctuation))\n"
   ]
  },
  {
   "cell_type": "code",
   "execution_count": 19,
   "metadata": {},
   "outputs": [],
   "source": [
    "def df_clean_text(df):\n",
    "    text = df['clean_text']\n",
    "    text = \" \".join(text.split())\n",
    "    text = re.sub('<[^>]+>', '', text)\n",
    "    text = text.split(\"(function\")[0]\n",
    "    text = text.lower()\n",
    "    text = [palavra for palavra in text.split() if palavra not in stop_words]\n",
    "    text = \" \".join(text)\n",
    "    return text\n"
   ]
  },
  {
   "cell_type": "code",
   "execution_count": 20,
   "metadata": {},
   "outputs": [],
   "source": [
    "def clean_text(text):\n",
    "    text = \" \".join(text.split())\n",
    "    text = re.sub('<[^>]+>', '', text)\n",
    "    text = text.split(\"(function\")[0]\n",
    "    text = text.lower()\n",
    "    text = [palavra for palavra in text.split() if palavra not in stop_words]\n",
    "    text = \" \".join(text)\n",
    "    return text\n"
   ]
  },
  {
   "cell_type": "code",
   "execution_count": 21,
   "metadata": {},
   "outputs": [],
   "source": [
    "def count_text(text):\n",
    "    text_splited = text.split(' ')\n",
    "    fdist1 = nltk.FreqDist(text_splited) \n",
    "    return fdist1\n"
   ]
  },
  {
   "cell_type": "code",
   "execution_count": 22,
   "metadata": {},
   "outputs": [],
   "source": [
    "def categorizar(text):\n",
    "    text_array = text.split()\n",
    "    if \"icms\" in text_array:\n",
    "        return \"icms\"\n",
    "    if \"is\" in text_array:\n",
    "        return \"is\"\n",
    "    if \"cofins\" in text_array:\n",
    "        return \"pis cofins\"\n",
    "    if \"pasep\" in text_array:\n",
    "        return \"pis pasep\"\n",
    "    if \"ipi\" in text_array:\n",
    "        return \"ipi\"\n",
    "    if \"iss\" in text_array:\n",
    "        return \"iss\"\n",
    "    if \"itr\" in text_array:\n",
    "        return \"itr\" \n",
    "    if \"ie\" in text_array:\n",
    "        return \"ie\" \n",
    "    if \"iof\" in text_array:\n",
    "        return \"iof\"\n",
    "    if \"irpj\" in text_array:\n",
    "        return \"irpj\"\n",
    "    if \"irpf\" in text_array:\n",
    "        return \"irpf\"\n",
    "    if \"cofins\" in text_array:\n",
    "        return \"cofins\"\n",
    "    if \"cide\" in text_array:\n",
    "        return \"cide\"\n",
    "    if \"csll\" in text_array:\n",
    "        return \"csll\" \n",
    "    if \"fgts\" in text_array:\n",
    "        return \"fgts\""
   ]
  },
  {
   "cell_type": "code",
   "execution_count": 23,
   "metadata": {},
   "outputs": [],
   "source": [
    "df['clean_text'] = df['text'].apply(clean_text)\n",
    "df['cat'] = df['clean_text'].apply(categorizar)\n",
    "df['n_words'] = df['clean_text'].apply(lambda x: len(x.split(' ')))"
   ]
  },
  {
   "cell_type": "code",
   "execution_count": 24,
   "metadata": {},
   "outputs": [
    {
     "name": "stdout",
     "output_type": "stream",
     "text": [
      "Total words: 68504\n"
     ]
    }
   ],
   "source": [
    "texts = df['clean_text'].str.split()\n",
    "vocab = Counter()\n",
    "\n",
    "for i in texts:\n",
    "    for w in i:\n",
    "        vocab[w]+=1\n",
    "\n",
    "print(\"Total words:\", len(vocab))"
   ]
  },
  {
   "cell_type": "code",
   "execution_count": 25,
   "metadata": {},
   "outputs": [
    {
     "data": {
      "text/html": [
       "<div>\n",
       "<style scoped>\n",
       "    .dataframe tbody tr th:only-of-type {\n",
       "        vertical-align: middle;\n",
       "    }\n",
       "\n",
       "    .dataframe tbody tr th {\n",
       "        vertical-align: top;\n",
       "    }\n",
       "\n",
       "    .dataframe thead th {\n",
       "        text-align: right;\n",
       "    }\n",
       "</style>\n",
       "<table border=\"1\" class=\"dataframe\">\n",
       "  <thead>\n",
       "    <tr style=\"text-align: right;\">\n",
       "      <th></th>\n",
       "      <th>date</th>\n",
       "      <th>law_code</th>\n",
       "      <th>text</th>\n",
       "      <th>author</th>\n",
       "      <th>clean_text</th>\n",
       "      <th>cat</th>\n",
       "      <th>n_words</th>\n",
       "    </tr>\n",
       "  </thead>\n",
       "  <tbody>\n",
       "    <tr>\n",
       "      <th>213</th>\n",
       "      <td>2008-10-06</td>\n",
       "      <td>L11793</td>\n",
       "      <td>§ 1o O rateio entre os Municípios das parcelas...</td>\n",
       "      <td>LUIZ INACIO LULA SILVA</td>\n",
       "      <td>§ 1o rateio municípios parcelas trata inciso i...</td>\n",
       "      <td>icms</td>\n",
       "      <td>26</td>\n",
       "    </tr>\n",
       "    <tr>\n",
       "      <th>214</th>\n",
       "      <td>2008-10-06</td>\n",
       "      <td>L11793</td>\n",
       "      <td>§ 2o O rateio entre os Municípios das parcelas...</td>\n",
       "      <td>LUIZ INACIO LULA SILVA</td>\n",
       "      <td>§ 2o rateio municípios parcelas trata inciso i...</td>\n",
       "      <td>icms</td>\n",
       "      <td>26</td>\n",
       "    </tr>\n",
       "    <tr>\n",
       "      <th>1180</th>\n",
       "      <td>2018-08-14</td>\n",
       "      <td>L13707</td>\n",
       "      <td>X - apresentação pela entidade de certidão ne...</td>\n",
       "      <td>MICHEL TEMER</td>\n",
       "      <td>x apresentação entidade certidão negativa cert...</td>\n",
       "      <td>fgts</td>\n",
       "      <td>37</td>\n",
       "    </tr>\n",
       "    <tr>\n",
       "      <th>1717</th>\n",
       "      <td>2018-08-14</td>\n",
       "      <td>L13707</td>\n",
       "      <td>7. Cota-Parte dos Estados e DF Exportadores n...</td>\n",
       "      <td>MICHEL TEMER</td>\n",
       "      <td>7. cota-parte estados df exportadores arrecada...</td>\n",
       "      <td>ipi</td>\n",
       "      <td>12</td>\n",
       "    </tr>\n",
       "    <tr>\n",
       "      <th>1738</th>\n",
       "      <td>2018-08-14</td>\n",
       "      <td>L13707</td>\n",
       "      <td>35. Complemento da atualização monetária dos ...</td>\n",
       "      <td>MICHEL TEMER</td>\n",
       "      <td>35. complemento atualização monetária recursos...</td>\n",
       "      <td>fgts</td>\n",
       "      <td>15</td>\n",
       "    </tr>\n",
       "    <tr>\n",
       "      <th>...</th>\n",
       "      <td>...</td>\n",
       "      <td>...</td>\n",
       "      <td>...</td>\n",
       "      <td>...</td>\n",
       "      <td>...</td>\n",
       "      <td>...</td>\n",
       "      <td>...</td>\n",
       "    </tr>\n",
       "    <tr>\n",
       "      <th>63247</th>\n",
       "      <td>2017-08-08</td>\n",
       "      <td>L13473</td>\n",
       "      <td>discussão sobre a majoração de alíquota da CO...</td>\n",
       "      <td>MICHEL TEMER</td>\n",
       "      <td>discussão sobre majoração alíquota cofins inst...</td>\n",
       "      <td>pis cofins</td>\n",
       "      <td>8</td>\n",
       "    </tr>\n",
       "    <tr>\n",
       "      <th>63249</th>\n",
       "      <td>2017-08-08</td>\n",
       "      <td>L13473</td>\n",
       "      <td>discussão sobre a incidência do PIS, COFINS e...</td>\n",
       "      <td>MICHEL TEMER</td>\n",
       "      <td>discussão sobre incidência pis, cofins csll so...</td>\n",
       "      <td>pis cofins</td>\n",
       "      <td>14</td>\n",
       "    </tr>\n",
       "    <tr>\n",
       "      <th>63250</th>\n",
       "      <td>2017-08-08</td>\n",
       "      <td>L13473</td>\n",
       "      <td>CSLL em 2014 o valor é de R$ 220 milhões (201...</td>\n",
       "      <td>MICHEL TEMER</td>\n",
       "      <td>csll 2014 valor r$ 220 milhões (2014) 5 anos r...</td>\n",
       "      <td>csll</td>\n",
       "      <td>37</td>\n",
       "    </tr>\n",
       "    <tr>\n",
       "      <th>66798</th>\n",
       "      <td>2013-02-21</td>\n",
       "      <td>L12789</td>\n",
       "      <td>Parágrafo único. O rateio entre os Municípios...</td>\n",
       "      <td>RENAN CALHEIROS</td>\n",
       "      <td>parágrafo único. rateio municípios obedecerá c...</td>\n",
       "      <td>icms</td>\n",
       "      <td>21</td>\n",
       "    </tr>\n",
       "    <tr>\n",
       "      <th>70221</th>\n",
       "      <td>1969-03-05</td>\n",
       "      <td>Del0491</td>\n",
       "      <td>Art. 5º É assegurada a manutenção e utilização...</td>\n",
       "      <td>A COSTA E SILVA</td>\n",
       "      <td>art. 5º assegurada manutenção utilização crédi...</td>\n",
       "      <td>ipi</td>\n",
       "      <td>139</td>\n",
       "    </tr>\n",
       "  </tbody>\n",
       "</table>\n",
       "<p>103 rows × 7 columns</p>\n",
       "</div>"
      ],
      "text/plain": [
       "            date law_code                                               text  \\\n",
       "213   2008-10-06   L11793  § 1o O rateio entre os Municípios das parcelas...   \n",
       "214   2008-10-06   L11793  § 2o O rateio entre os Municípios das parcelas...   \n",
       "1180  2018-08-14   L13707   X - apresentação pela entidade de certidão ne...   \n",
       "1717  2018-08-14   L13707   7. Cota-Parte dos Estados e DF Exportadores n...   \n",
       "1738  2018-08-14   L13707   35. Complemento da atualização monetária dos ...   \n",
       "...          ...      ...                                                ...   \n",
       "63247 2017-08-08   L13473   discussão sobre a majoração de alíquota da CO...   \n",
       "63249 2017-08-08   L13473   discussão sobre a incidência do PIS, COFINS e...   \n",
       "63250 2017-08-08   L13473   CSLL em 2014 o valor é de R$ 220 milhões (201...   \n",
       "66798 2013-02-21   L12789   Parágrafo único. O rateio entre os Municípios...   \n",
       "70221 1969-03-05  Del0491  Art. 5º É assegurada a manutenção e utilização...   \n",
       "\n",
       "                       author  \\\n",
       "213    LUIZ INACIO LULA SILVA   \n",
       "214    LUIZ INACIO LULA SILVA   \n",
       "1180             MICHEL TEMER   \n",
       "1717             MICHEL TEMER   \n",
       "1738             MICHEL TEMER   \n",
       "...                       ...   \n",
       "63247            MICHEL TEMER   \n",
       "63249            MICHEL TEMER   \n",
       "63250            MICHEL TEMER   \n",
       "66798         RENAN CALHEIROS   \n",
       "70221         A COSTA E SILVA   \n",
       "\n",
       "                                              clean_text         cat  n_words  \n",
       "213    § 1o rateio municípios parcelas trata inciso i...        icms       26  \n",
       "214    § 2o rateio municípios parcelas trata inciso i...        icms       26  \n",
       "1180   x apresentação entidade certidão negativa cert...        fgts       37  \n",
       "1717   7. cota-parte estados df exportadores arrecada...         ipi       12  \n",
       "1738   35. complemento atualização monetária recursos...        fgts       15  \n",
       "...                                                  ...         ...      ...  \n",
       "63247  discussão sobre majoração alíquota cofins inst...  pis cofins        8  \n",
       "63249  discussão sobre incidência pis, cofins csll so...  pis cofins       14  \n",
       "63250  csll 2014 valor r$ 220 milhões (2014) 5 anos r...        csll       37  \n",
       "66798  parágrafo único. rateio municípios obedecerá c...        icms       21  \n",
       "70221  art. 5º assegurada manutenção utilização crédi...         ipi      139  \n",
       "\n",
       "[103 rows x 7 columns]"
      ]
     },
     "execution_count": 25,
     "metadata": {},
     "output_type": "execute_result"
    }
   ],
   "source": [
    "df_categorized = df\n",
    "df_categorized = df_categorized.mask(df[\"cat\"].eq(None)).dropna()\n",
    "df_categorized"
   ]
  },
  {
   "cell_type": "code",
   "execution_count": 26,
   "metadata": {},
   "outputs": [
    {
     "data": {
      "text/plain": [
       "<matplotlib.axes._subplots.AxesSubplot at 0x7f0d8f0aba10>"
      ]
     },
     "execution_count": 26,
     "metadata": {},
     "output_type": "execute_result"
    },
    {
     "data": {
      "image/png": "[encoded data removed]",
      "text/plain": [
       "<Figure size 1080x360 with 1 Axes>"
      ]
     },
     "metadata": {
      "needs_background": "light"
     },
     "output_type": "display_data"
    }
   ],
   "source": [
    "import matplotlib.pyplot as plt\n",
    "import pandas as pd\n",
    "fig = plt.figure()\n",
    "fig.suptitle('Textos contendo ciglas de impostos', fontsize=20)\n",
    "cat_values = df_categorized['cat'].value_counts()\n",
    "cat_values.plot(kind='bar', figsize=(15, 5)) \n"
   ]
  },
  {
   "cell_type": "markdown",
   "metadata": {},
   "source": [
    "Esta é uma simples aplicação, o objetivo aqui foi apena identificar referências aos impostos nos textos."
   ]
  },
  {
   "cell_type": "code",
   "execution_count": null,
   "metadata": {},
   "outputs": [],
   "source": []
  }
 ],
 "metadata": {
  "kernelspec": {
   "display_name": "Python 3",
   "language": "python",
   "name": "python3"
  },
  "language_info": {
   "codemirror_mode": {
    "name": "ipython",
    "version": 3
   },
   "file_extension": ".py",
   "mimetype": "text/x-python",
   "name": "python",
   "nbconvert_exporter": "python",
   "pygments_lexer": "ipython3",
   "version": "3.7.5"
  }
 },
 "nbformat": 4,
 "nbformat_minor": 2
}
